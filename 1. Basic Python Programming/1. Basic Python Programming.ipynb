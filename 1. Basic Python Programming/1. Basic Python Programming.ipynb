{
 "cells": [
  {
   "cell_type": "markdown",
   "id": "eabf111d",
   "metadata": {},
   "source": [
    "# ::::::::::::::::::::::::::::::::::::::ASSIGNMENT 1:::::::::::::::::::::::::::::::::::::::::::::"
   ]
  },
  {
   "cell_type": "markdown",
   "id": "ccc499d7",
   "metadata": {},
   "source": [
    "# Question 1: \n",
    "Write a Python function that takes a list of integers as input and returns the sum of all even numbers in the list."
   ]
  },
  {
   "cell_type": "code",
   "execution_count": 2,
   "id": "fe95c202",
   "metadata": {
    "scrolled": true
   },
   "outputs": [
    {
     "name": "stdout",
     "output_type": "stream",
     "text": [
      "Enter element size: 5\n",
      "Enter the integers\n",
      "1\n",
      "2\n",
      "3\n",
      "4\n",
      "5\n",
      "Your list is: [1, 2, 3, 4, 5]\n",
      "Sum of all even numbers in the list is: 6\n"
     ]
    }
   ],
   "source": [
    "# Empty list declaration\n",
    "my_list=[]\n",
    "\n",
    "# Element Size initializing\n",
    "n=int(input(\"Enter element size: \"))\n",
    "print(\"Enter the integers\")\n",
    "\n",
    "# Taking elements one by one as input\n",
    "for i in range(1,n+1):\n",
    "    x=int(input())\n",
    "    my_list.append(x)\n",
    "\n",
    "# Defining fuction\n",
    "def sum_even(L):\n",
    "    sum=0\n",
    "    for i in L:\n",
    "        if i%2==0:\n",
    "            sum=sum+i\n",
    "    \n",
    "    print(f\"Your list is: {my_list}\") # Printing my created list\n",
    "    return(print(f\"Sum of all even numbers in the list is: {sum}\")) # Returning sum of even numbers\n",
    "\n",
    "# Calling the function\n",
    "sum_even(my_list)"
   ]
  },
  {
   "cell_type": "markdown",
   "id": "985db8cd",
   "metadata": {},
   "source": [
    "# Question 2: \n",
    "Given a list of words, create a new list containing the length of each word using list comprehension."
   ]
  },
  {
   "cell_type": "code",
   "execution_count": 3,
   "id": "87f3f916",
   "metadata": {},
   "outputs": [
    {
     "data": {
      "text/plain": [
       "[4, 5, 7]"
      ]
     },
     "execution_count": 3,
     "metadata": {},
     "output_type": "execute_result"
    }
   ],
   "source": [
    "my_list=['cars', \"Horse\", \"College\"] # Initialising my list\n",
    "new_list=[] # Creating new list to store words length\n",
    "\n",
    "for item in my_list:\n",
    "    length=len(item)\n",
    "    new_list.append(length)\n",
    "    \n",
    "new_list"
   ]
  },
  {
   "cell_type": "markdown",
   "id": "72981606",
   "metadata": {},
   "source": [
    "# Question 3: \n",
    "Given two NumPy arrays arr1 = np.array([1, 2, 3]) and arr2 = np.array([4, 5, 6]), perform element-wise multiplication and store the result in a new array."
   ]
  },
  {
   "cell_type": "code",
   "execution_count": 4,
   "id": "113a85fb",
   "metadata": {},
   "outputs": [
    {
     "name": "stdout",
     "output_type": "stream",
     "text": [
      "[ 4 10 18]\n"
     ]
    }
   ],
   "source": [
    "# Importing numpy library\n",
    "import numpy as np\n",
    "\n",
    "# Given arrays\n",
    "arr1 = np.array([1, 2, 3])\n",
    "arr2 = np.array([4, 5, 6])\n",
    "\n",
    "arr_new = np.multiply(arr1, arr2) # Storing result in new array\n",
    "\n",
    "print(arr_new)"
   ]
  },
  {
   "cell_type": "markdown",
   "id": "3ee0a7b9",
   "metadata": {},
   "source": [
    "# Question 4: \n",
    "Given a NumPy array data = np.arange(1, 21), use array slicing to extract elements from index 5 to index 15."
   ]
  },
  {
   "cell_type": "code",
   "execution_count": 5,
   "id": "8be62788",
   "metadata": {},
   "outputs": [
    {
     "name": "stdout",
     "output_type": "stream",
     "text": [
      "[ 6  7  8  9 10 11 12 13 14 15 16]\n"
     ]
    }
   ],
   "source": [
    "# Importing numpy library\n",
    "import numpy as np\n",
    "\n",
    "arr=np.arange(1,21) # Given array with arange fuction\n",
    "print(arr[5:16]) # array slicing from index 5 to index 15"
   ]
  },
  {
   "cell_type": "markdown",
   "id": "6d2d9442",
   "metadata": {},
   "source": [
    "# Question 5: \n",
    "Using Matplotlib, create a line plot to visualize the trend of a stock’s closing price over ten days (random data can be used)."
   ]
  },
  {
   "cell_type": "code",
   "execution_count": 6,
   "id": "cb39d53f",
   "metadata": {},
   "outputs": [
    {
     "data": {
      "image/png": "[encoded data removed]",
      "text/plain": [
       "<Figure size 640x480 with 1 Axes>"
      ]
     },
     "metadata": {},
     "output_type": "display_data"
    }
   ],
   "source": [
    "# Importing required libraries\n",
    "import pandas as pd\n",
    "import matplotlib.pyplot as plt\n",
    "\n",
    "# Declaring variables\n",
    "x = ['Day 1','Day 2','Day 3','Day 4','Day 5','Day 6','Day 7','Day 8', 'Day 9','Day 10']\n",
    "y = [977.66, 979.73, 981.78, 975.64, 980.32, 984.22, 987.67, 990.34, 1003.69, 1010.56]\n",
    "\n",
    "# Plotting Graph\n",
    "plt.plot(x,y, color='r')\n",
    "plt.title('Adani Stock Trend')\n",
    "plt.ylabel('Closing price')\n",
    "plt.xlabel('Days')\n",
    "plt.show()"
   ]
  },
  {
   "cell_type": "markdown",
   "id": "f7fd82a8",
   "metadata": {},
   "source": [
    "# Question 6: \n",
    "Given a Pandas DataFrame with a column containing missing values, write a Python function to replace those missing values with the mean of that column."
   ]
  },
  {
   "cell_type": "code",
   "execution_count": 7,
   "id": "50b1f351",
   "metadata": {},
   "outputs": [
    {
     "name": "stdout",
     "output_type": "stream",
     "text": [
      "Old Temperaure data\n",
      "       Avg. Temperature (°C)\n",
      "Days                       \n",
      "1                      28.0\n",
      "2                      28.0\n",
      "3                      30.0\n",
      "4                       NaN\n",
      "5                      29.0\n",
      "6                      31.0\n",
      "7                      32.0\n",
      "8                      30.0\n",
      "9                      30.0\n",
      "10                     29.0\n",
      "New Mean Included Temperaure data\n",
      "       Avg. Temperature (°C)\n",
      "Days                       \n",
      "1                     28.00\n",
      "2                     28.00\n",
      "3                     30.00\n",
      "4                     29.67\n",
      "5                     29.00\n",
      "6                     31.00\n",
      "7                     32.00\n",
      "8                     30.00\n",
      "9                     30.00\n",
      "10                    29.00\n"
     ]
    }
   ],
   "source": [
    "# Importing required libraries\n",
    "import numpy as np\n",
    "import pandas as pd\n",
    "\n",
    "# Creating Dataset\n",
    "weather_data = {\n",
    "    \"Days\" : [1, 2, 3, 4, 5, 6, 7, 8, 9, 10],\n",
    "    \"Avg. Temperature (°C)\" : [28, 28, 30, np.nan, 29, 31, 32, 30, 30, 29]\n",
    "}\n",
    "\n",
    "df= pd.DataFrame(weather_data).set_index('Days') # Creating Dataframe \n",
    "print(\"Old Temperaure data\\n\", df)\n",
    "\n",
    "df2=df.fillna(df['Avg. Temperature (°C)'].mean().round(2)) # Taking mean with upto 2 decimal places\n",
    "print(\"New Mean Included Temperaure data\\n\", df2)"
   ]
  },
  {
   "cell_type": "markdown",
   "id": "744c1637",
   "metadata": {},
   "source": [
    "# Question 7: \n",
    "Using Pandas, filter a DataFrame to only include rows where the ’age’ column is greater than 30 and the ’gender’ column is ’female’."
   ]
  },
  {
   "cell_type": "code",
   "execution_count": 8,
   "id": "1d9905a8",
   "metadata": {},
   "outputs": [
    {
     "name": "stdout",
     "output_type": "stream",
     "text": [
      "Created dataset is:\n",
      "          Name  Age Gender\n",
      "S.no                     \n",
      "1       Harsh   15      M\n",
      "2     Pragati   20      F\n",
      "3       Rahul   19      M\n",
      "4      Sakshi   25      F\n",
      "5      Vinita   29      F\n",
      "6       Ramal   35      M\n",
      "7       Komal   32      F\n",
      "8       Parag   35      M\n",
      "9      Aditya   30      M\n",
      "10    Ashvini   33      F\n",
      "\n",
      "Filtered dataset is:\n",
      "          Name  Age Gender\n",
      "S.no                     \n",
      "7       Komal   32      F\n",
      "10    Ashvini   33      F\n"
     ]
    }
   ],
   "source": [
    "# Importing pandas\n",
    "import pandas as pd\n",
    "\n",
    "# Creating dataset\n",
    "data = {\n",
    "    \"S.no\" : [1, 2, 3, 4, 5, 6, 7, 8, 9, 10],\n",
    "    \"Name\": [\"Harsh\", \"Pragati\", \"Rahul\", \"Sakshi\", \"Vinita\", \"Ramal\", \"Komal\", \"Parag\", \"Aditya\", \"Ashvini\"],\n",
    "    \"Age\" : [15, 20, 19, 25, 29, 35, 32, 35, 30, 33],\n",
    "    \"Gender\": ['M', 'F', 'M', 'F', 'F', 'M', 'F', 'M', 'M', 'F']\n",
    "}\n",
    "df=pd.DataFrame(data).set_index('S.no') # Creating Dataframe\n",
    "print(\"Created dataset is:\\n\",df)\n",
    "\n",
    "# Filtering Data\n",
    "print(\"\\nFiltered dataset is:\\n\", df[(df['Age']>30) & (df['Gender']=='F')])"
   ]
  },
  {
   "cell_type": "markdown",
   "id": "4a4188ed",
   "metadata": {},
   "source": [
    "# Question 8: \n",
    "Given a DataFrame with columns ’Country’ and ’Population’, use Pandas to group the data by ’Country’ and calculate the average population for each country."
   ]
  },
  {
   "cell_type": "code",
   "execution_count": 9,
   "id": "2b3f7b7c",
   "metadata": {},
   "outputs": [
    {
     "name": "stdout",
     "output_type": "stream",
     "text": [
      "Dataset Created:\n",
      "           Country  Population\n",
      "0   United States      856275\n",
      "1        Zimbabwe      445679\n",
      "2           China     3553678\n",
      "3           India     1938234\n",
      "4        Pakistan      345487\n",
      "5           Japan      778347\n",
      "6          Mexico      356837\n",
      "7           India      456794\n",
      "8   United States       68206\n",
      "9           Egypt       53985\n",
      "10         Turkey       98698\n",
      "11          Japan      626242\n",
      "12          India      236734\n",
      "13       Pakistan       25788\n",
      "14          China      482353\n",
      "\n",
      "Average population for each country:\n",
      "                Population\n",
      "Country                  \n",
      "China           2018015.5\n",
      "Egypt             53985.0\n",
      "India            877254.0\n",
      "Japan            702294.5\n",
      "Mexico           356837.0\n",
      "Pakistan         185637.5\n",
      "Turkey            98698.0\n",
      "United States    462240.5\n",
      "Zimbabwe         445679.0\n"
     ]
    }
   ],
   "source": [
    "# Importing required libraries\n",
    "import pandas as pd\n",
    "import numpy as np\n",
    "\n",
    "# Creating dataset\n",
    "df=pd.DataFrame({\n",
    "    'Country': ['United States', 'Zimbabwe', 'China', 'India', 'Pakistan', 'Japan', \"Mexico\", 'India', 'United States', 'Egypt', 'Turkey', 'Japan', 'India', 'Pakistan', 'China'],\n",
    "    'Population': [856275, 445679, 3553678, 1938234, 345487, 778347, 356837, 456794, 68206, 53985, 98698, 626242, 236734, 25788, 482353]\n",
    "})\n",
    "print(\"Dataset Created:\\n\", df)\n",
    "\n",
    "g= df.groupby(\"Country\").mean() # Grouping and taking mean \n",
    "print(\"\\nAverage population for each country:\\n\", g)"
   ]
  },
  {
   "cell_type": "markdown",
   "id": "876b1970",
   "metadata": {},
   "source": [
    "# Question 9: \n",
    "Using Seaborn, create a box plot to visualize the distribution of ages for different ’Species’ in a DataFrame."
   ]
  },
  {
   "cell_type": "code",
   "execution_count": 10,
   "id": "14ca1197",
   "metadata": {},
   "outputs": [
    {
     "data": {
      "image/png": "[encoded data removed]",
      "text/plain": [
       "<Figure size 640x480 with 1 Axes>"
      ]
     },
     "metadata": {},
     "output_type": "display_data"
    }
   ],
   "source": [
    "# Importing required libraries\n",
    "import seaborn as sns\n",
    "import matplotlib.pyplot as plt\n",
    "import pandas as pd\n",
    "\n",
    "# Creating Dataset\n",
    "data = {\n",
    "    'Species': ['Vulpes vulpes', 'Homo sapiens', 'Felis catus', 'Vulpes vulpes', 'Homo sapiens', 'Felis catus','Vulpes vulpes'],\n",
    "    'Ages': [10, 8, 12, 2, 15, 9, 20]\n",
    "}\n",
    "\n",
    "df = pd.DataFrame(data) # Creating Dataframe\n",
    "\n",
    "# Creating Boxplot\n",
    "sns.boxplot(x=df['Species'], y=df['Ages'])\n",
    "plt.title('Distribution of Ages for Different Species')\n",
    "plt.xlabel('Species')\n",
    "plt.ylabel('Age')\n",
    "plt.show()"
   ]
  },
  {
   "cell_type": "markdown",
   "id": "e18d0790",
   "metadata": {},
   "source": [
    "# Question 10: \n",
    "Given a Pandas DataFrame containing columns ’Sales’ and ’Expenses’, create a new column ’Profit’ that calculates the profit as ’Sales’ minus ’Expenses’."
   ]
  },
  {
   "cell_type": "code",
   "execution_count": 11,
   "id": "6abc08df",
   "metadata": {},
   "outputs": [
    {
     "name": "stdout",
     "output_type": "stream",
     "text": [
      "Excel Sheet Data:\n",
      "    S.no      Item  Sales  Qty  Expenses\n",
      "0     1     Shoes   1400    2       200\n",
      "1     2     Table   1000   10       210\n",
      "2     3       Bed   2300    4        50\n",
      "3     4    Bottle    240    8         5\n",
      "4     5     Cycle    590    5       290\n",
      "5     6  Suitcase    720    6       120\n",
      "6     7  Umbrella     50    5         5\n",
      "7     8       T.V   8769    8       566\n",
      "8     9     Watch   3200    8        20\n",
      "9    10    Laptop   2300    1       430\n",
      "\n",
      "Added New Proft Column in Excel Data:\n",
      "    S.no      Item  Sales  Qty  Expenses  Profit\n",
      "0     1     Shoes   1400    2       200    1200\n",
      "1     2     Table   1000   10       210     790\n",
      "2     3       Bed   2300    4        50    2250\n",
      "3     4    Bottle    240    8         5     235\n",
      "4     5     Cycle    590    5       290     300\n",
      "5     6  Suitcase    720    6       120     600\n",
      "6     7  Umbrella     50    5         5      45\n",
      "7     8       T.V   8769    8       566    8203\n",
      "8     9     Watch   3200    8        20    3180\n",
      "9    10    Laptop   2300    1       430    1870\n"
     ]
    }
   ],
   "source": [
    "# Importing required libraries\n",
    "import pandas as pd\n",
    "import numpy as np\n",
    "\n",
    "# Reading Dataset from provided excel\n",
    "df=pd.read_excel('Profit_data.xlsx')\n",
    "print(\"Excel Sheet Data:\\n\",df)\n",
    "\n",
    "df['Profit']= df['Sales']-df['Expenses'] # Create new Column of profit \n",
    "print(\"\\nAdded New Proft Column in Excel Data:\\n\",df)"
   ]
  },
  {
   "cell_type": "markdown",
   "id": "782eebfb",
   "metadata": {},
   "source": [
    "# Question 11: \n",
    "Given a dictionary phonebook containing names as keys and phone numbers as values, write a function to find and return the name(s) of the person(s) with the maximum phone number(s)"
   ]
  },
  {
   "cell_type": "code",
   "execution_count": 12,
   "id": "068d1914",
   "metadata": {},
   "outputs": [
    {
     "name": "stdout",
     "output_type": "stream",
     "text": [
      "Name's of the person(s) with the maximum phone number(s): ['Neha']\n"
     ]
    }
   ],
   "source": [
    "# Creating Dictionary\n",
    "phonebook= {\n",
    "    'Harsh': ['7428731210'],\n",
    "    'Neha': ['7528988312', '8514735594', '9735585840'],\n",
    "    'Aditya':['9464108205', '9417975203']\n",
    "}\n",
    "\n",
    "# Defining Function to get person's name with max phone numbers\n",
    "def max_phone_no(dictx):\n",
    "    max_count=0\n",
    "    max_name = []\n",
    "    \n",
    "    for name, items in dictx.items(): # iterating 2 variables to get name and phone numbers\n",
    "        num_count=len(items)\n",
    "        \n",
    "        if num_count>max_count:\n",
    "            max_count = num_count\n",
    "            max_name = [name]\n",
    "        elif num_count == max_count:\n",
    "            max_name.append(name)\n",
    "            \n",
    "    return(max_name)\n",
    "\n",
    "# Calling function \n",
    "Persons_name= max_phone_no(phonebook)\n",
    "print(f\"Name's of the person(s) with the maximum phone number(s): {Persons_name}\")             "
   ]
  },
  {
   "cell_type": "markdown",
   "id": "2dc97338",
   "metadata": {},
   "source": [
    "# Question 12: \n",
    "Write a recursive Python function to calculate the factorial of a given positive integer."
   ]
  },
  {
   "cell_type": "code",
   "execution_count": null,
   "id": "5494f6a8",
   "metadata": {},
   "outputs": [],
   "source": [
    "# Taking a number as input\n",
    "num=int(input(\"Enter the number: \"))\n",
    "\n",
    "#Defining Factorial fuction\n",
    "def fact(x):\n",
    "    if x>1:\n",
    "        return (x*fact(x-1))\n",
    "    elif x==1:\n",
    "        return 1\n",
    "\n",
    "# Extra conditions for 0 and less than 0\n",
    "if num==0:\n",
    "    print(\"Factorial of 0 is: 1\")\n",
    "elif num<0:\n",
    "    print(\"Factorial is not possible !\")\n",
    "else:\n",
    "    print(f\"Factorial of {num} is: {fact(num)}\")"
   ]
  },
  {
   "cell_type": "markdown",
   "id": "437f93f8",
   "metadata": {},
   "source": [
    "# Question 13: \n",
    "Read a text file named “data.txt” that contains one number per line. Write a Python script to calculate the sum of all the numbers and print the result."
   ]
  },
  {
   "cell_type": "code",
   "execution_count": null,
   "id": "8fce7bb4",
   "metadata": {},
   "outputs": [],
   "source": [
    "with open(\"data.txt\", 'r') as f: # Giving Data.txt file to read \n",
    "    sum=0\n",
    "    for i in f:\n",
    "        sum=sum+int(i)\n",
    "    \n",
    "    print(f'Sum of numbers is: {sum}') # Priting sum of all numbers present in the file"
   ]
  },
  {
   "cell_type": "markdown",
   "id": "15d1230a",
   "metadata": {},
   "source": [
    "# Question 14: \n",
    "Create a class Rectangle with attributes width and height, and methods to calculate the area and perimeter. Test the class by creating objects and performing calculations."
   ]
  },
  {
   "cell_type": "code",
   "execution_count": null,
   "id": "a835166d",
   "metadata": {},
   "outputs": [],
   "source": [
    "# Initialising Class\n",
    "class Rectangle:\n",
    "    def __init__(self, length, width):\n",
    "        self.length = length\n",
    "        self.width = width\n",
    "    \n",
    "    # To calculate perimeter\n",
    "    def calculate_perimeter(self):\n",
    "        return (2 * (self.width + self.length))\n",
    "    \n",
    "    # To calculate area        \n",
    "    def calculate_area(self):\n",
    "        return (self.width * self.length)\n",
    "    \n",
    "    \n",
    "\n",
    "\n",
    "rect = Rectangle(4, 10) # Passing the objects\n",
    "\n",
    "\n",
    "# Calculating area and perimeter\n",
    "area = rect.calculate_area()\n",
    "perimeter = rect.calculate_perimeter()\n",
    "\n",
    "print(f\"Width: {rect.width}, Length: {rect.length}\")\n",
    "print(f\"Area and Perimeter of Rectangle is {area} and {perimeter}\")"
   ]
  },
  {
   "cell_type": "markdown",
   "id": "f25422bb",
   "metadata": {},
   "source": [
    "# Question 15: \n",
    "Create a 3×3 identity matrix using NumPy and then convert it into a 1D array."
   ]
  },
  {
   "cell_type": "code",
   "execution_count": null,
   "id": "b084b18a",
   "metadata": {},
   "outputs": [],
   "source": [
    "# Importing numpy library\n",
    "import numpy as np\n",
    "\n",
    "# CReating Identity 3x3 Matrix\n",
    "mat=np.identity(3, int)\n",
    "print(\"3X3 Identiy matrix\\n\",mat)\n",
    "\n",
    "# Converting 3x3 matrix into 1D array\n",
    "print(\"\\nAfter converting into 1D array\\n\", mat.flatten())"
   ]
  },
  {
   "cell_type": "markdown",
   "id": "b3a93d1b",
   "metadata": {},
   "source": [
    "# Question 16: \n",
    "Using Matplotlib, create a bar chart to compare the average scores of students in three different subjects."
   ]
  },
  {
   "cell_type": "code",
   "execution_count": null,
   "id": "a007ebbd",
   "metadata": {},
   "outputs": [],
   "source": [
    "# Importing required libraries\n",
    "import matplotlib.pyplot as plt\n",
    "import pandas as pd\n",
    "import numpy as np\n",
    "\n",
    "# Reading Data from provided excel file\n",
    "df=pd.read_excel('Student_data.xlsx', header=0)\n",
    "print(\"Excel data: \\n\", df)\n",
    "\n",
    "# CReating Average Score column \n",
    "df['Average Score']=df[['Mathematics', 'Science', 'English']].mean(axis=1)\n",
    "print(\"\\nUpdated table data with Average Score Column: \\n\", df)\n",
    "\n",
    "# Plotting Graphs\n",
    "plt.bar(df['Student'], df['Average Score'], color='green',edgecolor=\"black\")\n",
    "plt.title('Average scores of students')\n",
    "plt.xlabel(\"Students\")\n",
    "plt.ylabel(\"Average marks\")\n",
    "plt.show()"
   ]
  }
 ],
 "metadata": {
  "kernelspec": {
   "display_name": "Python 3 (ipykernel)",
   "language": "python",
   "name": "python3"
  },
  "language_info": {
   "codemirror_mode": {
    "name": "ipython",
    "version": 3
   },
   "file_extension": ".py",
   "mimetype": "text/x-python",
   "name": "python",
   "nbconvert_exporter": "python",
   "pygments_lexer": "ipython3",
   "version": "3.11.3"
  }
 },
 "nbformat": 4,
 "nbformat_minor": 5
}
