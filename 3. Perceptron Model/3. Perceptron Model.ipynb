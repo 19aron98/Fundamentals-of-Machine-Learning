{
 "cells": [
  {
   "cell_type": "markdown",
   "id": "d888c971",
   "metadata": {},
   "source": [
    "# ::::::::::::::::::::::::::::::::::::::ASSIGNMENT 3:::::::::::::::::::::::::::::::::::::::::::::"
   ]
  },
  {
   "cell_type": "markdown",
   "id": "ae9f41eb",
   "metadata": {},
   "source": [
    "# Question: \n",
    "You are given a code for perceptron. Please modify it so that:\n",
    "(a) It works for labels given as (+1,-1).\n",
    "(b) it works for the data provided in the attached CSV file. For create a CSV file with three features and two classes\n",
    "manually. Read this CSV file and executive the Perceptron code"
   ]
  },
  {
   "cell_type": "code",
   "execution_count": 12,
   "id": "472f9bd9",
   "metadata": {},
   "outputs": [],
   "source": [
    "import numpy as np\n",
    "import pandas as pd\n",
    "\n",
    "class Perceptron:\n",
    "    def __init__(self, num_features, learning_rate=0.1, epochs=100):\n",
    "        self.weights = np.random.rand(num_features+1)  # +1 for the bias term\n",
    "        #print(self.weights)\n",
    "        self.learning_rate = learning_rate\n",
    "        self.epochs = epochs\n",
    "        #print(self.weights)\n",
    "\n",
    "    def activate(self, x):\n",
    "        return 1 if x >= 0 else -1\n",
    "\n",
    "    def predict(self, inputs):\n",
    "        summation = np.dot(inputs, self.weights[1:]) + self.weights[0]\n",
    "        return self.activate(summation)\n",
    "\n",
    "    def train(self, training_data, labels):\n",
    "        for _ in range(self.epochs):\n",
    "            for inputs, label in zip(training_data, labels):\n",
    "                prediction = self.predict(inputs)\n",
    "                update = self.learning_rate * (label - prediction)\n",
    "                self.weights[1:] += update * inputs\n",
    "                self.weights[0] += update\n",
    "                #print(self.weights)"
   ]
  },
  {
   "cell_type": "code",
   "execution_count": 13,
   "id": "442eeb56",
   "metadata": {},
   "outputs": [],
   "source": [
    "# Training data: [weight, redness, texture]\n",
    "\n",
    "df=pd.read_csv('Training_Data.csv')\n",
    "data=df.iloc[:,1:4]\n",
    "training_data=np.array(data)\n",
    "\n",
    "# Labels: 1 for Apple, -1 for Orange\n",
    "labels=df.iloc[:, 0].to_numpy()"
   ]
  },
  {
   "cell_type": "code",
   "execution_count": 15,
   "id": "4efab52f",
   "metadata": {},
   "outputs": [],
   "source": [
    "# Create and train the perceptron\n",
    "perceptron = Perceptron(num_features=3)\n",
    "perceptron.train(training_data, labels)"
   ]
  },
  {
   "cell_type": "code",
   "execution_count": 16,
   "id": "4b3dbfe9",
   "metadata": {},
   "outputs": [
    {
     "name": "stdout",
     "output_type": "stream",
     "text": [
      "Apple\n",
      "Orange\n",
      "Apple\n",
      "Apple\n",
      "Orange\n",
      "Apple\n"
     ]
    }
   ],
   "source": [
    "# Test the trained perceptron\n",
    "df2=pd.read_csv('Test_Data.csv')\n",
    "test_data = df2.iloc[:, 1:4].to_numpy()\n",
    "\n",
    "for data in test_data:\n",
    "    prediction = perceptron.predict(data)\n",
    "    if prediction ==-1:\n",
    "        print(\"Orange\")\n",
    "    else:\n",
    "        print(\"Apple\")"
   ]
  },
  {
   "cell_type": "code",
   "execution_count": null,
   "id": "6d01ccef",
   "metadata": {},
   "outputs": [],
   "source": []
  }
 ],
 "metadata": {
  "kernelspec": {
   "display_name": "Python 3 (ipykernel)",
   "language": "python",
   "name": "python3"
  },
  "language_info": {
   "codemirror_mode": {
    "name": "ipython",
    "version": 3
   },
   "file_extension": ".py",
   "mimetype": "text/x-python",
   "name": "python",
   "nbconvert_exporter": "python",
   "pygments_lexer": "ipython3",
   "version": "3.11.3"
  }
 },
 "nbformat": 4,
 "nbformat_minor": 5
}
