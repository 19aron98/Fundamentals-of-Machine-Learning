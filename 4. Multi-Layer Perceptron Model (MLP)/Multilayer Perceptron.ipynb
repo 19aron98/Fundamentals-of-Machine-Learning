{
 "cells": [
  {
   "cell_type": "markdown",
   "id": "97d93fc2-bbb9-4a79-bb43-c5fab18ea0dd",
   "metadata": {},
   "source": [
    "# ::::::::::::::::::::::::::::::::::::::ASSIGNMENT 4:::::::::::::::::::::::::::::::::::::::::::::"
   ]
  },
  {
   "cell_type": "markdown",
   "id": "a0e6f6da-8a5a-4022-8abc-e6798fa2cfe5",
   "metadata": {},
   "source": [
    "# Question 1: \n",
    "Please go through the blog on developing your first neural network and understand the code.\r",
    "((A) Draw the model architecture by showing each perceptron, input/output/hidden layers.\r\n",
    "(B) Change the code to use only 60%, 70%, and 80% data as training, and report test-set performance for all the e\r\n",
    "three training data set sizes.\r\n",
    "(C) Compare BCE loss with MSE loss.\r\n",
    "(D) Change the number of hidden layers from 2 to 4 and compare the perform]ance."
   ]
  },
  {
   "cell_type": "code",
   "execution_count": 19,
   "id": "3f636aff-3043-42b8-bb01-888a582483a7",
   "metadata": {},
   "outputs": [],
   "source": [
    "import numpy as np\n",
    "import torch\n",
    "import torch.nn as nn\n",
    "import torch.optim as optim\n",
    "import pandas as pd\n",
    "from sklearn.model_selection import train_test_split"
   ]
  },
  {
   "cell_type": "code",
   "execution_count": 20,
   "id": "c450ab24",
   "metadata": {},
   "outputs": [],
   "source": [
    "df=pd.read_csv('pima-indians-diabetes.csv', names=[\"Number of times pregnant\", \"Plasma glucose concentration at 2 hours in an oral glucose tolerance test\" , \n",
    "            \"Diastolic blood pressure (mm Hg)\", \"Triceps skin fold thickness (mm)\", \"2-hour serum insulin (μIU/ml)\", \n",
    "           \"Body mass index (weight in kg/(height in m)2)\", \"Diabetes pedigree function\", \"Age (years)\", \"Class Label\"], header=None)"
   ]
  },
  {
   "cell_type": "code",
   "execution_count": 21,
   "id": "9526d709",
   "metadata": {},
   "outputs": [],
   "source": [
    "# Splitting Dataset into X(features) and y(Class labels)\n",
    "X=df.iloc[:, 0:8].to_numpy()\n",
    "y=df.iloc[:,8].to_numpy()"
   ]
  },
  {
   "cell_type": "code",
   "execution_count": 22,
   "id": "7d9c2a44",
   "metadata": {},
   "outputs": [],
   "source": [
    "# PyTorch usually operates in a 32-bit floating point while NumPy, by default, uses a 64-bit floating point. \n",
    "\n",
    "X = torch.tensor(X, dtype=torch.float32)\n",
    "y = torch.tensor(y, dtype=torch.float32).reshape(-1,1)"
   ]
  },
  {
   "cell_type": "code",
   "execution_count": 23,
   "id": "e90be09b",
   "metadata": {},
   "outputs": [],
   "source": [
    "# define the model for hidden layer=2\n",
    "class PimaClassifier(nn.Module):\n",
    "    def __init__(self):\n",
    "        super().__init__()\n",
    "        self.hidden1 = nn.Linear(8, 16)\n",
    "        self.act1 = nn.ReLU()\n",
    "        self.hidden2 = nn.Linear(16, 12)\n",
    "        self.act2 = nn.ReLU()   \n",
    "        self.hidden3 = nn.Linear(12, 8)\n",
    "        self.act3 = nn.ReLU()\n",
    "        self.hidden4 = nn.Linear(8, 4)\n",
    "        self.act4 = nn.ReLU()\n",
    "        self.output = nn.Linear(4, 1)\n",
    "        self.act_output = nn.Sigmoid() \n",
    "\n",
    "    def forward(self, x):\n",
    "        x = self.act1(self.hidden1(x))\n",
    "        x = self.act2(self.hidden2(x))\n",
    "        x = self.act3(self.hidden3(x))\n",
    "        x = self.act4(self.hidden4(x))\n",
    "        x = self.act_output(self.output(x))\n",
    "        return x\n",
    "\n",
    "model = PimaClassifier()"
   ]
  },
  {
   "cell_type": "code",
   "execution_count": 29,
   "id": "8091b374",
   "metadata": {},
   "outputs": [
    {
     "name": "stdout",
     "output_type": "stream",
     "text": [
      "Accuracy of BCE Loss with 60.0% training set is: 66.88311767578125%\n",
      "Accuracy of BCE Loss with 70.0% training set is: 65.36796569824219%\n",
      "Accuracy of BCE Loss with 80.0% training set is: 64.28571319580078%\n"
     ]
    }
   ],
   "source": [
    "# train the model\n",
    "train_sizes = [0.6, 0.7, 0.8]\n",
    "\n",
    "for train_size in train_sizes:\n",
    "    X_train, X_test, y_train, y_test = train_test_split(X,y, test_size=1-train_size, random_state=42)\n",
    "\n",
    "    loss_fn = nn.BCELoss() # binary cross entropy\n",
    "    optimizer = optim.Adam(model.parameters(), lr=0.001)\n",
    "\n",
    "    n_epochs = 100\n",
    "    batch_size = 10\n",
    " \n",
    "    for epoch in range(n_epochs):\n",
    "        for i in range(0, len(X_train), batch_size):\n",
    "            Xbatch = X_train[i:i+batch_size]\n",
    "            y_pred = model(Xbatch)\n",
    "            ybatch = y_train[i:i+batch_size]\n",
    "            optimizer.zero_grad()\n",
    "            loss = loss_fn(y_pred, ybatch)\n",
    "            loss.backward()\n",
    "            optimizer.step()\n",
    "\n",
    "    # compute accuracy\n",
    "    y_pred = model(X_test)\n",
    "    bce_accuracy = (y_pred.round() == y_test).float().mean()\n",
    "    print(f\"Accuracy of BCE Loss with {train_size*100}% training set is: {bce_accuracy*100}%\")"
   ]
  },
  {
   "cell_type": "code",
   "execution_count": 30,
   "id": "b758f196",
   "metadata": {},
   "outputs": [
    {
     "name": "stdout",
     "output_type": "stream",
     "text": [
      "Accuracy of MSE Loss with 60.0% training set is: 66.88311767578125%\n",
      "Accuracy of MSE Loss with 70.0% training set is: 65.36796569824219%\n",
      "Accuracy of MSE Loss with 80.0% training set is: 64.28571319580078%\n"
     ]
    }
   ],
   "source": [
    "# train the model\n",
    "train_sizes = [0.6, 0.7, 0.8]\n",
    "\n",
    "for train_size in train_sizes:\n",
    "    X_train, X_test, y_train, y_test = train_test_split(X,y, test_size=1-train_size, random_state=42)\n",
    "\n",
    "    MSE_loss_fn = nn.MSELoss() # binary cross entropy\n",
    "    optimizer = optim.Adam(model.parameters(), lr=0.001)\n",
    "\n",
    "    n_epochs = 100\n",
    "    batch_size = 10\n",
    " \n",
    "    for epoch in range(n_epochs):\n",
    "        for i in range(0, len(X_train), batch_size):\n",
    "            Xbatch = X_train[i:i+batch_size]\n",
    "            y_pred = model(Xbatch)\n",
    "            ybatch = y_train[i:i+batch_size]\n",
    "            optimizer.zero_grad()\n",
    "            loss = MSE_loss_fn(y_pred, ybatch)\n",
    "            loss.backward()\n",
    "            optimizer.step()\n",
    "\n",
    "    # compute accuracy\n",
    "    y_pred = model(X_test)\n",
    "    mse_accuracy = (y_pred.round() == y_test).float().mean()\n",
    "    print(f\"Accuracy of MSE Loss with {train_size*100}% training set is: {mse_accuracy*100}%\")"
   ]
  },
  {
   "cell_type": "markdown",
   "id": "423017eb-f149-496f-9463-2f135a0fecfa",
   "metadata": {},
   "source": [
    "# Question 2: \n",
    "Develop a neural network that works for MNIST handwritten digit classification.\n",
    "(A) Draw the model architecture.\n",
    "(B) Compare its performance with KNN classification."
   ]
  },
  {
   "cell_type": "code",
   "execution_count": 1,
   "id": "33ab9015-26c0-4204-83db-71d6c20e11d1",
   "metadata": {},
   "outputs": [],
   "source": [
    "import tensorflow as tf\n",
    "from tensorflow import keras\n",
    "import matplotlib.pyplot as plt\n",
    "%matplotlib inline\n",
    "import numpy as np\n",
    "from sklearn.datasets import fetch_openml\n",
    "from sklearn.model_selection import train_test_split"
   ]
  },
  {
   "cell_type": "code",
   "execution_count": 3,
   "id": "47141a14-36b0-480a-8ad5-f5ae6c3613ec",
   "metadata": {},
   "outputs": [],
   "source": [
    "# Fetching data from sklearn library\n",
    "mnist = fetch_openml('mnist_784', parser='auto')\n",
    "X = mnist.data.to_numpy()\n",
    "y = mnist.target.astype(int).to_numpy()"
   ]
  },
  {
   "cell_type": "code",
   "execution_count": 4,
   "id": "780c6537-c0e1-4386-a1a9-059165dcbf36",
   "metadata": {},
   "outputs": [],
   "source": [
    "X_train, X_test, y_train, y_test = train_test_split(X, y, test_size=0.2, random_state=42)\n",
    "X_train=X_train/255\n",
    "X_test=X_test/255"
   ]
  },
  {
   "cell_type": "code",
   "execution_count": 5,
   "id": "c1e51c3f-a313-48b2-b4d0-46b753c55c20",
   "metadata": {},
   "outputs": [
    {
     "name": "stdout",
     "output_type": "stream",
     "text": [
      "Epoch 1/5\n",
      "\u001b[1m1750/1750\u001b[0m \u001b[32m━━━━━━━━━━━━━━━━━━━━\u001b[0m\u001b[37m\u001b[0m \u001b[1m4s\u001b[0m 2ms/step - accuracy: 0.8689 - loss: 0.4558\n",
      "Epoch 2/5\n",
      "\u001b[1m1750/1750\u001b[0m \u001b[32m━━━━━━━━━━━━━━━━━━━━\u001b[0m\u001b[37m\u001b[0m \u001b[1m3s\u001b[0m 2ms/step - accuracy: 0.9661 - loss: 0.1118\n",
      "Epoch 3/5\n",
      "\u001b[1m1750/1750\u001b[0m \u001b[32m━━━━━━━━━━━━━━━━━━━━\u001b[0m\u001b[37m\u001b[0m \u001b[1m3s\u001b[0m 2ms/step - accuracy: 0.9768 - loss: 0.0761\n",
      "Epoch 4/5\n",
      "\u001b[1m1750/1750\u001b[0m \u001b[32m━━━━━━━━━━━━━━━━━━━━\u001b[0m\u001b[37m\u001b[0m \u001b[1m3s\u001b[0m 2ms/step - accuracy: 0.9835 - loss: 0.0572\n",
      "Epoch 5/5\n",
      "\u001b[1m1750/1750\u001b[0m \u001b[32m━━━━━━━━━━━━━━━━━━━━\u001b[0m\u001b[37m\u001b[0m \u001b[1m3s\u001b[0m 2ms/step - accuracy: 0.9859 - loss: 0.0464\n"
     ]
    },
    {
     "data": {
      "text/plain": [
       "<keras.src.callbacks.history.History at 0x1e96ab981a0>"
      ]
     },
     "execution_count": 5,
     "metadata": {},
     "output_type": "execute_result"
    }
   ],
   "source": [
    "model = keras.Sequential([\n",
    "    keras.layers.Dense(100, activation='relu'),\n",
    "    keras.layers.Dense(50, activation='relu'),\n",
    "    keras.layers.Dense(10, activation='sigmoid')\n",
    "])\n",
    "\n",
    "model.compile(optimizer='adam',\n",
    "              loss='sparse_categorical_crossentropy',\n",
    "              metrics=['accuracy'])\n",
    "\n",
    "model.fit(X_train, y_train, epochs=5)"
   ]
  },
  {
   "cell_type": "code",
   "execution_count": 8,
   "id": "b221599c-d5a3-4050-bdf6-274c45904d2f",
   "metadata": {},
   "outputs": [
    {
     "name": "stdout",
     "output_type": "stream",
     "text": [
      "\u001b[1m438/438\u001b[0m \u001b[32m━━━━━━━━━━━━━━━━━━━━\u001b[0m\u001b[37m\u001b[0m \u001b[1m1s\u001b[0m 1ms/step - accuracy: 0.9730 - loss: 0.0924\n"
     ]
    },
    {
     "data": {
      "text/plain": [
       "[0.09453757107257843, 0.9738571643829346]"
      ]
     },
     "execution_count": 8,
     "metadata": {},
     "output_type": "execute_result"
    }
   ],
   "source": [
    "model.evaluate(X_test, y_test) #Validation"
   ]
  },
  {
   "cell_type": "code",
   "execution_count": 9,
   "id": "a5f74a54-c396-4922-9d44-ceb6c34aaa15",
   "metadata": {},
   "outputs": [
    {
     "name": "stdout",
     "output_type": "stream",
     "text": [
      "\u001b[1m438/438\u001b[0m \u001b[32m━━━━━━━━━━━━━━━━━━━━\u001b[0m\u001b[37m\u001b[0m \u001b[1m1s\u001b[0m 1ms/step\n"
     ]
    }
   ],
   "source": [
    "y_pred=model.predict(X_test) #Prediction"
   ]
  },
  {
   "cell_type": "code",
   "execution_count": 10,
   "id": "a2927089-1e9d-47c3-9615-bb209e20d1f3",
   "metadata": {},
   "outputs": [
    {
     "data": {
      "text/plain": [
       "<matplotlib.image.AxesImage at 0x1e96a94ab40>"
      ]
     },
     "execution_count": 10,
     "metadata": {},
     "output_type": "execute_result"
    },
    {
     "data": {
      "image/png": "[encoded data removed]",
      "text/plain": [
       "<Figure size 480x480 with 1 Axes>"
      ]
     },
     "metadata": {},
     "output_type": "display_data"
    }
   ],
   "source": [
    "plt.matshow(X_test[2].reshape(28,28))"
   ]
  },
  {
   "cell_type": "code",
   "execution_count": 11,
   "id": "7312731f-d26f-45c5-a653-bea205ede5ce",
   "metadata": {},
   "outputs": [],
   "source": [
    "y_pred = [np.argmax(i) for i in y_pred] # Highest probability of a specific number--->argmax to get that number "
   ]
  },
  {
   "cell_type": "code",
   "execution_count": 12,
   "id": "8773d4a3-5843-4a3d-a251-828d8132425b",
   "metadata": {},
   "outputs": [
    {
     "name": "stdout",
     "output_type": "stream",
     "text": [
      "Picked Index is: 748\n"
     ]
    },
    {
     "data": {
      "image/png": "[encoded data removed]",
      "text/plain": [
       "<Figure size 400x400 with 1 Axes>"
      ]
     },
     "metadata": {},
     "output_type": "display_data"
    }
   ],
   "source": [
    "# Randomly pick an index\n",
    "random_index = np.random.randint(0, len(X_test))\n",
    "print(f\"Picked Index is: {random_index}\")\n",
    "\n",
    "\n",
    "# Get the image data and label\n",
    "image = X_test[random_index].reshape(28,28) # Converting 784 pixels into 28*28\n",
    "actual_label=y_test[random_index]\n",
    "predicted_label = y_pred[random_index]\n",
    "\n",
    "# Display the predcited image\n",
    "plt.figure(figsize=(4, 4))\n",
    "plt.imshow(image, cmap='gray')\n",
    "plt.title(f\"Actual label is: {actual_label}, Predicted Label is: {predicted_label}\")\n",
    "plt.show()"
   ]
  }
 ],
 "metadata": {
  "kernelspec": {
   "display_name": "Python 3 (ipykernel)",
   "language": "python",
   "name": "python3"
  },
  "language_info": {
   "codemirror_mode": {
    "name": "ipython",
    "version": 3
   },
   "file_extension": ".py",
   "mimetype": "text/x-python",
   "name": "python",
   "nbconvert_exporter": "python",
   "pygments_lexer": "ipython3",
   "version": "3.12.4"
  }
 },
 "nbformat": 4,
 "nbformat_minor": 5
}
